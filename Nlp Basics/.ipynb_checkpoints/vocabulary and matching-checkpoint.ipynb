{
 "cells": [
  {
   "cell_type": "code",
   "execution_count": 1,
   "id": "6f93fc75",
   "metadata": {},
   "outputs": [],
   "source": [
    "import spacy\n",
    "nlp = spacy.load('en_core_web_sm')"
   ]
  },
  {
   "cell_type": "code",
   "execution_count": 2,
   "id": "54be92e7",
   "metadata": {},
   "outputs": [],
   "source": [
    "# Importing the matcher library\n",
    "from spacy.matcher import Matcher"
   ]
  },
  {
   "cell_type": "code",
   "execution_count": 3,
   "id": "37f71607",
   "metadata": {},
   "outputs": [],
   "source": [
    "matcher = Matcher(nlp.vocab)"
   ]
  },
  {
   "cell_type": "markdown",
   "id": "a326e4ba",
   "metadata": {},
   "source": [
    "# Creating Patterns"
   ]
  },
  {
   "cell_type": "code",
   "execution_count": 4,
   "id": "58711991",
   "metadata": {},
   "outputs": [],
   "source": [
    "# Checking if solarpower appears as :\n",
    "# one word solarpower\n",
    "# With a dash solar-power\n",
    "# appears as two words solar power\n",
    "pattern1 = [{'LOWER':'solarpower'}]\n",
    "pattern2 = [{'LOWER':'solar'},{'IS_PUNCT':True},{'LOWER':'power'}]\n",
    "pattern3"
   ]
  },
  {
   "cell_type": "code",
   "execution_count": null,
   "id": "744e9c6a",
   "metadata": {},
   "outputs": [],
   "source": []
  }
 ],
 "metadata": {
  "kernelspec": {
   "display_name": "Python 3 (ipykernel)",
   "language": "python",
   "name": "python3"
  },
  "language_info": {
   "codemirror_mode": {
    "name": "ipython",
    "version": 3
   },
   "file_extension": ".py",
   "mimetype": "text/x-python",
   "name": "python",
   "nbconvert_exporter": "python",
   "pygments_lexer": "ipython3",
   "version": "3.7.16"
  }
 },
 "nbformat": 4,
 "nbformat_minor": 5
}
