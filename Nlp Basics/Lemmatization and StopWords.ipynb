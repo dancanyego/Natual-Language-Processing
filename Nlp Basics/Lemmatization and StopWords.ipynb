{
 "cells": [
  {
   "cell_type": "code",
   "execution_count": 1,
   "id": "6057c461",
   "metadata": {},
   "outputs": [],
   "source": [
    "import spacy\n",
    "nlp = spacy.load('en_core_web_sm')"
   ]
  },
  {
   "cell_type": "code",
   "execution_count": 2,
   "id": "58af9541",
   "metadata": {},
   "outputs": [],
   "source": [
    "doc1 = nlp(u\"I am a runner running in a race because I love to run since I ran today\")"
   ]
  },
  {
   "cell_type": "code",
   "execution_count": 4,
   "id": "5ebd1a70",
   "metadata": {},
   "outputs": [
    {
     "name": "stdout",
     "output_type": "stream",
     "text": [
      "I \t PRON \t 4690420944186131903 \t I\n",
      "am \t AUX \t 10382539506755952630 \t be\n",
      "a \t DET \t 11901859001352538922 \t a\n",
      "runner \t NOUN \t 12640964157389618806 \t runner\n",
      "running \t VERB \t 12767647472892411841 \t run\n",
      "in \t ADP \t 3002984154512732771 \t in\n",
      "a \t DET \t 11901859001352538922 \t a\n",
      "race \t NOUN \t 8048469955494714898 \t race\n",
      "because \t SCONJ \t 16950148841647037698 \t because\n",
      "I \t PRON \t 4690420944186131903 \t I\n",
      "love \t VERB \t 3702023516439754181 \t love\n",
      "to \t PART \t 3791531372978436496 \t to\n",
      "run \t VERB \t 12767647472892411841 \t run\n",
      "since \t SCONJ \t 10066841407251338481 \t since\n",
      "I \t PRON \t 4690420944186131903 \t I\n",
      "ran \t VERB \t 12767647472892411841 \t run\n",
      "today \t NOUN \t 11042482332948150395 \t today\n"
     ]
    }
   ],
   "source": [
    "for token in doc1:\n",
    "    print(token.text,'\\t',token.pos_,'\\t',token.lemma,'\\t',token.lemma_)"
   ]
  },
  {
   "cell_type": "code",
   "execution_count": 9,
   "id": "eb1aa49d",
   "metadata": {},
   "outputs": [],
   "source": [
    "#Function to show lemmas\n",
    "def show_lemmas(text):\n",
    "    for token in text:\n",
    "        print(f'{token.text:{12}} {token.pos_:{6}} {token.lemma:<{22}} {token.lemma_}')"
   ]
  },
  {
   "cell_type": "code",
   "execution_count": 10,
   "id": "8b8df0b5",
   "metadata": {},
   "outputs": [],
   "source": [
    "doc2 = nlp(u\"I saw Mice and mouse to cats running\")"
   ]
  },
  {
   "cell_type": "code",
   "execution_count": 11,
   "id": "3917b56b",
   "metadata": {},
   "outputs": [
    {
     "name": "stdout",
     "output_type": "stream",
     "text": [
      "I            PRON   4690420944186131903    I\n",
      "saw          VERB   11925638236994514241   see\n",
      "Mice         PROPN  13311253057290398322   Mice\n",
      "and          CCONJ  2283656566040971221    and\n",
      "mouse        NOUN   1384165645700560590    mouse\n",
      "to           ADP    3791531372978436496    to\n",
      "cats         NOUN   5439657043933447811    cat\n",
      "running      VERB   12767647472892411841   run\n"
     ]
    }
   ],
   "source": [
    "show_lemmas(doc2)"
   ]
  },
  {
   "cell_type": "markdown",
   "id": "c82ecb38",
   "metadata": {},
   "source": [
    "# Stop-Words "
   ]
  },
  {
   "cell_type": "code",
   "execution_count": 12,
   "id": "e3a017f7",
   "metadata": {},
   "outputs": [
    {
     "name": "stdout",
     "output_type": "stream",
     "text": [
      "{'has', '’s', 'further', 'anything', 'here', 'these', 'empty', 'thereupon', 'rather', 'bottom', 'those', \"'m\", 'third', 'some', 'your', 'amount', 'an', 'fifty', 'towards', 'n’t', 'somewhere', 'how', 'hereupon', 'it', 'by', 'own', 'someone', \"'ve\", 'ours', 'name', 'nor', 'however', 'most', 'although', 'until', 'yours', 'any', 'when', '‘s', 'below', 'became', 'least', '‘m', 'quite', 'much', 'last', 'therefore', 'seems', 'whose', 'nothing', 'hereby', 'along', 'latterly', 'less', 'ten', 'else', 'beforehand', 'besides', 'otherwise', 'she', 'either', 'can', '’d', 'see', 'get', 'were', 'in', 'then', 'anywhere', \"'ll\", 'well', 'he', 'anyone', 'not', 'you', 'himself', 'afterwards', 'whereby', 'her', '‘ll', 'becoming', 'without', 'be', 'from', 'what', 'was', 'wherever', 'mine', 'nine', 'yourself', 'go', 'namely', 'forty', 'twenty', 'serious', 'whither', 'does', 'during', 'ca', 'take', 'per', 'therein', 'may', 'about', 'down', 'neither', 'could', 'more', 'whereas', 'again', 'somehow', 'show', 'hundred', 'still', 'must', 're', 'doing', 'before', 'seeming', 'thence', 'together', 'several', 'always', 'their', '‘re', 'behind', 'side', 'which', 'yet', 'back', 'across', 'been', '’m', 'where', 'hence', 'toward', 'since', 'all', 'up', 'very', 'anyway', 'am', 'once', 'often', 'will', 'five', 'its', 'so', 'nowhere', '’re', 'unless', 'with', 'become', 'our', 'hereafter', 'among', 'meanwhile', 'perhaps', 'full', 'over', 'also', 'to', 'is', 'beside', 'might', 'i', 'the', 'them', 'first', 'should', 'formerly', 'via', 'but', 'have', 'for', 'many', 'throughout', 'put', 'something', 'his', 'used', 'out', 'even', 'too', 'this', 'everything', 'upon', '’ve', 'thereafter', 'whatever', 'regarding', 'whole', 'other', 'made', 'enough', 'indeed', 'latter', 'itself', 'sometimes', 'everyone', 'beyond', 'one', 'front', 'eleven', 'various', 'elsewhere', 'me', 'cannot', 'seem', 'after', 'myself', 'or', 'my', 'they', 'keep', '’ll', 'really', 'noone', 'against', 'thereby', 'same', 'herself', 'as', 'whence', 'hers', 'herein', 'through', 'sometime', 'thus', 'though', 'two', 'everywhere', 'eight', 'ever', 'off', 'except', 'us', 'at', \"'s\", 'whenever', 'done', 'move', 'another', 'a', 'former', '‘d', 'already', 'becomes', 'such', 'within', 'few', 'part', 'both', 'none', 'alone', 'we', 'of', 'using', 'who', 'being', 'under', 'yourselves', '‘ve', 'whoever', 'than', 'onto', 'on', \"'d\", 'and', 'three', 'are', 'did', 'themselves', 'twelve', 'call', 'never', 'six', 'if', 'due', 'whether', 'almost', 'n‘t', 'every', 'please', 'between', 'moreover', 'thru', 'whereafter', 'ourselves', 'sixty', 'wherein', 'just', \"n't\", 'seemed', 'only', 'had', 'anyhow', 'around', 'amongst', 'next', 'that', 'give', 'fifteen', 'while', 'because', 'would', 'above', 'no', 'now', 'nevertheless', 'why', 'nobody', 'each', 'four', 'there', 'whereupon', 'do', 'into', 'say', 'mostly', 'make', 'others', 'top', 'him', 'whom', \"'re\"}\n"
     ]
    }
   ],
   "source": [
    "print(nlp.Defaults.stop_words)"
   ]
  },
  {
   "cell_type": "code",
   "execution_count": 17,
   "id": "952eb9fb",
   "metadata": {},
   "outputs": [
    {
     "data": {
      "text/plain": [
       "True"
      ]
     },
     "execution_count": 17,
     "metadata": {},
     "output_type": "execute_result"
    }
   ],
   "source": [
    "# checking for stop words\n",
    "nlp.vocab['they'].is_stop"
   ]
  },
  {
   "cell_type": "code",
   "execution_count": 18,
   "id": "4d0994cc",
   "metadata": {},
   "outputs": [],
   "source": [
    "# adding new stop-word\n",
    "nlp.Defaults.stop_words.add('wueeh')"
   ]
  },
  {
   "cell_type": "code",
   "execution_count": 19,
   "id": "b3922585",
   "metadata": {},
   "outputs": [],
   "source": [
    "nlp.vocab['wueeh'].is_stop = True"
   ]
  },
  {
   "cell_type": "code",
   "execution_count": 20,
   "id": "30cc550f",
   "metadata": {},
   "outputs": [
    {
     "data": {
      "text/plain": [
       "True"
      ]
     },
     "execution_count": 20,
     "metadata": {},
     "output_type": "execute_result"
    }
   ],
   "source": [
    "nlp.vocab['wueeh'].is_stop"
   ]
  },
  {
   "cell_type": "code",
   "execution_count": 21,
   "id": "098361bd",
   "metadata": {},
   "outputs": [],
   "source": [
    "# Removing stop words\n",
    "nlp.Defaults.stop_words.remove('wueeh')"
   ]
  },
  {
   "cell_type": "code",
   "execution_count": 22,
   "id": "2a538c5b",
   "metadata": {},
   "outputs": [],
   "source": [
    "nlp.vocab['wueeh'].is_stop = False"
   ]
  },
  {
   "cell_type": "code",
   "execution_count": 23,
   "id": "e32d83c9",
   "metadata": {},
   "outputs": [
    {
     "data": {
      "text/plain": [
       "False"
      ]
     },
     "execution_count": 23,
     "metadata": {},
     "output_type": "execute_result"
    }
   ],
   "source": [
    "nlp.vocab['wueeh'].is_stop"
   ]
  },
  {
   "cell_type": "code",
   "execution_count": null,
   "id": "ae2d236c",
   "metadata": {},
   "outputs": [],
   "source": []
  }
 ],
 "metadata": {
  "kernelspec": {
   "display_name": "Python 3 (ipykernel)",
   "language": "python",
   "name": "python3"
  },
  "language_info": {
   "codemirror_mode": {
    "name": "ipython",
    "version": 3
   },
   "file_extension": ".py",
   "mimetype": "text/x-python",
   "name": "python",
   "nbconvert_exporter": "python",
   "pygments_lexer": "ipython3",
   "version": "3.7.16"
  }
 },
 "nbformat": 4,
 "nbformat_minor": 5
}
