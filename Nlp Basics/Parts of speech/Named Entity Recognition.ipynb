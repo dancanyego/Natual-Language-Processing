{
 "cells": [
  {
   "cell_type": "code",
   "execution_count": 1,
   "id": "c46dcda0",
   "metadata": {},
   "outputs": [],
   "source": [
    "import spacy\n",
    "nlp = spacy.load('en_core_web_sm')"
   ]
  },
  {
   "cell_type": "code",
   "execution_count": 2,
   "id": "c6b5cd37",
   "metadata": {},
   "outputs": [],
   "source": [
    "def show_ents(doc):\n",
    "    if doc.ents:\n",
    "        for ent in doc.ents:\n",
    "            print(ent.text + ' -> '+ ent.label_+ ' -> '+str(spacy.explain(ent.label_)))\n",
    "    else:\n",
    "        print('No Entities Available')"
   ]
  },
  {
   "cell_type": "code",
   "execution_count": 5,
   "id": "3fabcbbb",
   "metadata": {},
   "outputs": [],
   "source": [
    "doc = nlp(u'Hi how high are you')  # doc with no enity"
   ]
  },
  {
   "cell_type": "code",
   "execution_count": 6,
   "id": "8a9a9094",
   "metadata": {},
   "outputs": [
    {
     "name": "stdout",
     "output_type": "stream",
     "text": [
      "No Entities Available\n"
     ]
    }
   ],
   "source": [
    "show_ents(doc)"
   ]
  },
  {
   "cell_type": "code",
   "execution_count": 15,
   "id": "ed1d09e9",
   "metadata": {},
   "outputs": [],
   "source": [
    "# doc with some entities\n",
    "doc = nlp(u'Can i eat at MC,Dicsons in Bikini botom they have great crabby patties and are located at Mt.Bikini next week ?')"
   ]
  },
  {
   "cell_type": "code",
   "execution_count": 16,
   "id": "9ced349b",
   "metadata": {},
   "outputs": [
    {
     "name": "stdout",
     "output_type": "stream",
     "text": [
      "Bikini -> GPE -> Countries, cities, states\n",
      "Mt.Bikini -> LOC -> Non-GPE locations, mountain ranges, bodies of water\n",
      "next week -> DATE -> Absolute or relative dates or periods\n"
     ]
    }
   ],
   "source": [
    "show_ents(doc)"
   ]
  },
  {
   "cell_type": "code",
   "execution_count": 41,
   "id": "3d9d8968",
   "metadata": {},
   "outputs": [],
   "source": [
    "doc = nlp(u'Tmart inc to build mega factories in U.K for $20 million')"
   ]
  },
  {
   "cell_type": "code",
   "execution_count": 42,
   "id": "5d3b4011",
   "metadata": {},
   "outputs": [
    {
     "name": "stdout",
     "output_type": "stream",
     "text": [
      "Tmart -> ORG -> Companies, agencies, institutions, etc.\n",
      "U.K -> GPE -> Countries, cities, states\n",
      "$20 million -> MONEY -> Monetary values, including unit\n"
     ]
    }
   ],
   "source": [
    "show_ents(doc)"
   ]
  },
  {
   "cell_type": "code",
   "execution_count": 36,
   "id": "1937342e",
   "metadata": {},
   "outputs": [],
   "source": [
    "# adding a named entiry to a span"
   ]
  },
  {
   "cell_type": "code",
   "execution_count": 37,
   "id": "503e9ab9",
   "metadata": {},
   "outputs": [],
   "source": [
    "from spacy.tokens import Span"
   ]
  },
  {
   "cell_type": "code",
   "execution_count": 38,
   "id": "105f1df8",
   "metadata": {},
   "outputs": [],
   "source": [
    "ORG = doc.vocab.strings[u'ORG']"
   ]
  },
  {
   "cell_type": "code",
   "execution_count": 29,
   "id": "4f0b9c37",
   "metadata": {},
   "outputs": [
    {
     "data": {
      "text/plain": [
       "383"
      ]
     },
     "execution_count": 29,
     "metadata": {},
     "output_type": "execute_result"
    }
   ],
   "source": [
    "ORG"
   ]
  },
  {
   "cell_type": "code",
   "execution_count": 30,
   "id": "88ca51de",
   "metadata": {},
   "outputs": [],
   "source": [
    "# Creating a span for the new Entity\n",
    "new_ent = Span(doc, 0, 1, label=ORG)"
   ]
  },
  {
   "cell_type": "code",
   "execution_count": 32,
   "id": "c1a620eb",
   "metadata": {},
   "outputs": [],
   "source": [
    "doc_ents = list(doc.ents) + [new_ent]"
   ]
  },
  {
   "cell_type": "code",
   "execution_count": 43,
   "id": "8f756cce",
   "metadata": {},
   "outputs": [
    {
     "name": "stdout",
     "output_type": "stream",
     "text": [
      "Tmart -> ORG -> Companies, agencies, institutions, etc.\n",
      "U.K -> GPE -> Countries, cities, states\n",
      "$20 million -> MONEY -> Monetary values, including unit\n"
     ]
    }
   ],
   "source": [
    "show_ents(doc)"
   ]
  },
  {
   "cell_type": "markdown",
   "id": "44ba5ce2",
   "metadata": {},
   "source": [
    "# Adding named entities to All Matching spans"
   ]
  },
  {
   "cell_type": "code",
   "execution_count": null,
   "id": "263a4160",
   "metadata": {},
   "outputs": [],
   "source": []
  }
 ],
 "metadata": {
  "kernelspec": {
   "display_name": "Python 3 (ipykernel)",
   "language": "python",
   "name": "python3"
  },
  "language_info": {
   "codemirror_mode": {
    "name": "ipython",
    "version": 3
   },
   "file_extension": ".py",
   "mimetype": "text/x-python",
   "name": "python",
   "nbconvert_exporter": "python",
   "pygments_lexer": "ipython3",
   "version": "3.7.16"
  }
 },
 "nbformat": 4,
 "nbformat_minor": 5
}
