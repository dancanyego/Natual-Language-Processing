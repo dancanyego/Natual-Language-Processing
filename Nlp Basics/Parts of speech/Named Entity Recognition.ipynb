{
 "cells": [
  {
   "cell_type": "code",
   "execution_count": 1,
   "id": "c46dcda0",
   "metadata": {},
   "outputs": [],
   "source": [
    "import spacy\n",
    "nlp = spacy.load('en_core_web_sm')"
   ]
  },
  {
   "cell_type": "code",
   "execution_count": 2,
   "id": "4e366401",
   "metadata": {},
   "outputs": [],
   "source": [
    "def show_ents(doc):\n",
    "    if doc.ents:\n",
    "        for ent in doc.ents:\n",
    "            print(ent.text + ' -> '+ ent.label_+ ' -> '+str(spacy.explain(ent.label_)))\n",
    "    else:\n",
    "        print('No Entities Available')"
   ]
  },
  {
   "cell_type": "code",
   "execution_count": 3,
   "id": "54ec3a80",
   "metadata": {},
   "outputs": [],
   "source": [
    "doc = nlp(u'Hi how high are you')  # doc with no enity"
   ]
  },
  {
   "cell_type": "code",
   "execution_count": 4,
   "id": "23f20884",
   "metadata": {},
   "outputs": [
    {
     "name": "stdout",
     "output_type": "stream",
     "text": [
      "No Entities Available\n"
     ]
    }
   ],
   "source": [
    "show_ents(doc)"
   ]
  },
  {
   "cell_type": "code",
   "execution_count": 5,
   "id": "26a9c8c3",
   "metadata": {},
   "outputs": [],
   "source": [
    "# doc with some entities\n",
    "doc = nlp(u'Can i eat at MC,Dicsons in Bikini botom they have great crabby patties and are located at Mt.Bikini next week ?')"
   ]
  },
  {
   "cell_type": "code",
   "execution_count": 6,
   "id": "ceb1bfc0",
   "metadata": {},
   "outputs": [
    {
     "name": "stdout",
     "output_type": "stream",
     "text": [
      "Bikini -> GPE -> Countries, cities, states\n",
      "Mt.Bikini -> LOC -> Non-GPE locations, mountain ranges, bodies of water\n",
      "next week -> DATE -> Absolute or relative dates or periods\n"
     ]
    }
   ],
   "source": [
    "show_ents(doc)"
   ]
  },
  {
   "cell_type": "code",
   "execution_count": 7,
   "id": "462272df",
   "metadata": {},
   "outputs": [],
   "source": [
    "doc = nlp(u'Tmart inc to build mega factories in U.K for $20 million')"
   ]
  },
  {
   "cell_type": "code",
   "execution_count": 8,
   "id": "558bc619",
   "metadata": {},
   "outputs": [
    {
     "name": "stdout",
     "output_type": "stream",
     "text": [
      "Tmart -> ORG -> Companies, agencies, institutions, etc.\n",
      "U.K -> GPE -> Countries, cities, states\n",
      "$20 million -> MONEY -> Monetary values, including unit\n"
     ]
    }
   ],
   "source": [
    "show_ents(doc)"
   ]
  },
  {
   "cell_type": "code",
   "execution_count": 9,
   "id": "931f5bf6",
   "metadata": {},
   "outputs": [],
   "source": [
    "# adding a named entiry to a span"
   ]
  },
  {
   "cell_type": "code",
   "execution_count": 10,
   "id": "6dc1c3b6",
   "metadata": {},
   "outputs": [],
   "source": [
    "from spacy.tokens import Span"
   ]
  },
  {
   "cell_type": "code",
   "execution_count": 11,
   "id": "28c6ca2f",
   "metadata": {},
   "outputs": [],
   "source": [
    "ORG = doc.vocab.strings[u'ORG']"
   ]
  },
  {
   "cell_type": "code",
   "execution_count": 12,
   "id": "1e39c515",
   "metadata": {},
   "outputs": [
    {
     "data": {
      "text/plain": [
       "383"
      ]
     },
     "execution_count": 12,
     "metadata": {},
     "output_type": "execute_result"
    }
   ],
   "source": [
    "ORG"
   ]
  },
  {
   "cell_type": "code",
   "execution_count": 13,
   "id": "535d945d",
   "metadata": {},
   "outputs": [],
   "source": [
    "# Creating a span for the new Entity\n",
    "new_ent = Span(doc, 0, 1, label=ORG)"
   ]
  },
  {
   "cell_type": "code",
   "execution_count": 14,
   "id": "8538f368",
   "metadata": {},
   "outputs": [],
   "source": [
    "doc_ents = list(doc.ents) + [new_ent]"
   ]
  },
  {
   "cell_type": "code",
   "execution_count": 15,
   "id": "dd970566",
   "metadata": {},
   "outputs": [
    {
     "name": "stdout",
     "output_type": "stream",
     "text": [
      "Tmart -> ORG -> Companies, agencies, institutions, etc.\n",
      "U.K -> GPE -> Countries, cities, states\n",
      "$20 million -> MONEY -> Monetary values, including unit\n"
     ]
    }
   ],
   "source": [
    "show_ents(doc)"
   ]
  },
  {
   "cell_type": "markdown",
   "id": "1c94a26c",
   "metadata": {},
   "source": [
    "# Adding named entities to All Matching spans"
   ]
  },
  {
   "cell_type": "code",
   "execution_count": 16,
   "id": "574a3d66",
   "metadata": {},
   "outputs": [],
   "source": [
    "doc = nlp(u'Tmartke has added a new vacuum cleaner'\n",
    "         u'This vacuum-cleaner has a brand new technology in it the best of the west')"
   ]
  },
  {
   "cell_type": "code",
   "execution_count": 17,
   "id": "a1824c7d",
   "metadata": {},
   "outputs": [
    {
     "name": "stdout",
     "output_type": "stream",
     "text": [
      "No Entities Available\n"
     ]
    }
   ],
   "source": [
    "show_ents(doc)"
   ]
  },
  {
   "cell_type": "code",
   "execution_count": 44,
   "id": "271cd0bc",
   "metadata": {},
   "outputs": [],
   "source": [
    "from spacy.matcher import PhraseMatcher\n",
    "from spacy.tokens import span"
   ]
  },
  {
   "cell_type": "code",
   "execution_count": 19,
   "id": "c68414a2",
   "metadata": {},
   "outputs": [],
   "source": [
    "matcher = PhraseMatcher(nlp.vocab)"
   ]
  },
  {
   "cell_type": "code",
   "execution_count": 40,
   "id": "814a5668",
   "metadata": {},
   "outputs": [],
   "source": [
    "# Create the desired phrase patterns:\n",
    "phrase_list = ['vacuum cleaner', 'vacuum-cleaner']\n",
    "phrase_patterns = [nlp(text) for text in phrase_list]"
   ]
  },
  {
   "cell_type": "code",
   "execution_count": 41,
   "id": "51db7ef7",
   "metadata": {},
   "outputs": [
    {
     "data": {
      "text/plain": [
       "[(2689272359382549672, 7, 10)]"
      ]
     },
     "execution_count": 41,
     "metadata": {},
     "output_type": "execute_result"
    }
   ],
   "source": [
    "matcher.add('newproduct', None, *phrase_patterns)\n",
    "\n",
    "# Apply the matcher to our Doc object:\n",
    "matches = matcher(doc)\n",
    "\n",
    "# See what matches occur:\n",
    "matches"
   ]
  },
  {
   "cell_type": "code",
   "execution_count": 42,
   "id": "3591ae09",
   "metadata": {},
   "outputs": [],
   "source": [
    "PROD = doc.vocab.strings[u'PRODUCT']\n",
    "\n",
    "new_ents = [Span(doc, match[1],match[2],label=PROD) for match in matches]\n",
    "\n",
    "doc.ents = list(doc.ents) + new_ents"
   ]
  },
  {
   "cell_type": "code",
   "execution_count": 43,
   "id": "44ca09b4",
   "metadata": {},
   "outputs": [
    {
     "name": "stdout",
     "output_type": "stream",
     "text": [
      "vacuum-cleaner -> PRODUCT -> Objects, vehicles, foods, etc. (not services)\n"
     ]
    }
   ],
   "source": [
    "show_ents(doc)"
   ]
  },
  {
   "cell_type": "code",
   "execution_count": null,
   "id": "53c4985f",
   "metadata": {},
   "outputs": [],
   "source": []
  }
 ],
 "metadata": {
  "kernelspec": {
   "display_name": "Python 3 (ipykernel)",
   "language": "python",
   "name": "python3"
  },
  "language_info": {
   "codemirror_mode": {
    "name": "ipython",
    "version": 3
   },
   "file_extension": ".py",
   "mimetype": "text/x-python",
   "name": "python",
   "nbconvert_exporter": "python",
   "pygments_lexer": "ipython3",
   "version": "3.7.16"
  }
 },
 "nbformat": 4,
 "nbformat_minor": 5
}
