{
 "cells": [
  {
   "cell_type": "code",
   "execution_count": 1,
   "id": "6701291a",
   "metadata": {},
   "outputs": [],
   "source": [
    "import spacy \n",
    "nlp = spacy.load('en_core_web_sm')"
   ]
  },
  {
   "cell_type": "code",
   "execution_count": 2,
   "id": "aa679b63",
   "metadata": {},
   "outputs": [
    {
     "name": "stdout",
     "output_type": "stream",
     "text": [
      "This is the first sentence.\n",
      "This is another sentence.\n",
      "This is the last sentence.\n"
     ]
    }
   ],
   "source": [
    "# From Spacy Basics:\n",
    "doc = nlp(u'This is the first sentence. This is another sentence. This is the last sentence.')\n",
    "\n",
    "for sent in doc.sents:\n",
    "    print(sent)"
   ]
  },
  {
   "cell_type": "code",
   "execution_count": 3,
   "id": "86162e8c",
   "metadata": {},
   "outputs": [],
   "source": [
    "doc2 = nlp(u'\"In the comming hours; the legendary manchester United will not be legendary anymore against Arsenal Fc HAHa\" -> Peter Drury')"
   ]
  },
  {
   "cell_type": "code",
   "execution_count": 5,
   "id": "7d4d9c5d",
   "metadata": {},
   "outputs": [
    {
     "name": "stdout",
     "output_type": "stream",
     "text": [
      "\"In the comming hours the legendary manchester United will not be legendary anymore against Arsenal Fc HAHa\" -> Peter Drury\n",
      "\n",
      "\n"
     ]
    }
   ],
   "source": [
    "for sent in doc2.sents:\n",
    "    print(sent)\n",
    "    print('\\n')"
   ]
  },
  {
   "cell_type": "markdown",
   "id": "50590848",
   "metadata": {},
   "source": [
    "# Adding a new rule to the Pipelines "
   ]
  },
  {
   "cell_type": "code",
   "execution_count": 16,
   "id": "79a63816",
   "metadata": {},
   "outputs": [
    {
     "name": "stdout",
     "output_type": "stream",
     "text": [
      "['tok2vec', 'tagger', 'set_custom_boundaries', 'parser', 'attribute_ruler', 'lemmatizer', 'ner']\n"
     ]
    }
   ],
   "source": [
    "from spacy.language import Language\n",
    "\n",
    "# ADD A NEW RULE TO THE PIPELINE\n",
    "@Language.component(\"set_custom_boundaries\")  # Assign a name to the custom component\n",
    "def set_custom_boundaries(doc):\n",
    "    for token in doc[:-1]:\n",
    "        if token.text == ';':\n",
    "            doc[token.i].is_sent_start = True\n",
    "    return doc\n",
    "\n",
    "nlp.add_pipe(\"set_custom_boundaries\", before=\"parser\")  # Add the custom component by its name\n",
    "\n",
    "print(nlp.pipe_names)\n"
   ]
  },
  {
   "cell_type": "code",
   "execution_count": 17,
   "id": "b77cc31f",
   "metadata": {},
   "outputs": [],
   "source": [
    "doc3 = nlp(u'\"In the comming hours; the legendary manchester United will not be legendary anymore against Arsenal Fc HAHa\" -> Peter Drury')"
   ]
  },
  {
   "cell_type": "code",
   "execution_count": 18,
   "id": "3caca6d6",
   "metadata": {},
   "outputs": [
    {
     "name": "stdout",
     "output_type": "stream",
     "text": [
      "\"In the comming hours\n",
      "; the legendary manchester United will not be legendary anymore against Arsenal Fc HAHa\" -> Peter Drury\n"
     ]
    }
   ],
   "source": [
    "for sent in doc3.sents:\n",
    "    print(sent)"
   ]
  },
  {
   "cell_type": "code",
   "execution_count": null,
   "id": "1592ca58",
   "metadata": {},
   "outputs": [],
   "source": []
  }
 ],
 "metadata": {
  "kernelspec": {
   "display_name": "Python 3 (ipykernel)",
   "language": "python",
   "name": "python3"
  },
  "language_info": {
   "codemirror_mode": {
    "name": "ipython",
    "version": 3
   },
   "file_extension": ".py",
   "mimetype": "text/x-python",
   "name": "python",
   "nbconvert_exporter": "python",
   "pygments_lexer": "ipython3",
   "version": "3.7.16"
  }
 },
 "nbformat": 4,
 "nbformat_minor": 5
}
