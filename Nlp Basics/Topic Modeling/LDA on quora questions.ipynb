{
 "cells": [
  {
   "cell_type": "code",
   "execution_count": 1,
   "id": "f0c0d604",
   "metadata": {},
   "outputs": [],
   "source": [
    "import pandas as pd"
   ]
  },
  {
   "cell_type": "code",
   "execution_count": 2,
   "id": "54c517e1",
   "metadata": {},
   "outputs": [],
   "source": [
    "df = pd.read_csv('C:/Users/danca/Music/NLP/TextFiles/quora_questions.csv')"
   ]
  },
  {
   "cell_type": "code",
   "execution_count": 3,
   "id": "684d9a8a",
   "metadata": {},
   "outputs": [
    {
     "data": {
      "text/html": [
       "<div>\n",
       "<style scoped>\n",
       "    .dataframe tbody tr th:only-of-type {\n",
       "        vertical-align: middle;\n",
       "    }\n",
       "\n",
       "    .dataframe tbody tr th {\n",
       "        vertical-align: top;\n",
       "    }\n",
       "\n",
       "    .dataframe thead th {\n",
       "        text-align: right;\n",
       "    }\n",
       "</style>\n",
       "<table border=\"1\" class=\"dataframe\">\n",
       "  <thead>\n",
       "    <tr style=\"text-align: right;\">\n",
       "      <th></th>\n",
       "      <th>Question</th>\n",
       "    </tr>\n",
       "  </thead>\n",
       "  <tbody>\n",
       "    <tr>\n",
       "      <th>0</th>\n",
       "      <td>What is the step by step guide to invest in sh...</td>\n",
       "    </tr>\n",
       "    <tr>\n",
       "      <th>1</th>\n",
       "      <td>What is the story of Kohinoor (Koh-i-Noor) Dia...</td>\n",
       "    </tr>\n",
       "    <tr>\n",
       "      <th>2</th>\n",
       "      <td>How can I increase the speed of my internet co...</td>\n",
       "    </tr>\n",
       "    <tr>\n",
       "      <th>3</th>\n",
       "      <td>Why am I mentally very lonely? How can I solve...</td>\n",
       "    </tr>\n",
       "    <tr>\n",
       "      <th>4</th>\n",
       "      <td>Which one dissolve in water quikly sugar, salt...</td>\n",
       "    </tr>\n",
       "  </tbody>\n",
       "</table>\n",
       "</div>"
      ],
      "text/plain": [
       "                                            Question\n",
       "0  What is the step by step guide to invest in sh...\n",
       "1  What is the story of Kohinoor (Koh-i-Noor) Dia...\n",
       "2  How can I increase the speed of my internet co...\n",
       "3  Why am I mentally very lonely? How can I solve...\n",
       "4  Which one dissolve in water quikly sugar, salt..."
      ]
     },
     "execution_count": 3,
     "metadata": {},
     "output_type": "execute_result"
    }
   ],
   "source": [
    "df.head()"
   ]
  },
  {
   "cell_type": "code",
   "execution_count": 4,
   "id": "5aa857ef",
   "metadata": {},
   "outputs": [],
   "source": [
    "from sklearn.feature_extraction.text import CountVectorizer"
   ]
  },
  {
   "cell_type": "code",
   "execution_count": 5,
   "id": "9278b960",
   "metadata": {},
   "outputs": [],
   "source": [
    "cv = CountVectorizer(max_df=0.9,min_df=2,stop_words='english')"
   ]
  },
  {
   "cell_type": "code",
   "execution_count": 6,
   "id": "702a8408",
   "metadata": {},
   "outputs": [],
   "source": [
    "dtm = cv.fit_transform(df['Question'])"
   ]
  },
  {
   "cell_type": "code",
   "execution_count": 7,
   "id": "a5cc43ff",
   "metadata": {},
   "outputs": [],
   "source": [
    "from sklearn.decomposition import LatentDirichletAllocation"
   ]
  },
  {
   "cell_type": "code",
   "execution_count": 8,
   "id": "58d6e6fc",
   "metadata": {},
   "outputs": [],
   "source": [
    "LDA = LatentDirichletAllocation(n_components=10,random_state=42)"
   ]
  },
  {
   "cell_type": "code",
   "execution_count": 9,
   "id": "d06c0ea6",
   "metadata": {},
   "outputs": [
    {
     "data": {
      "text/plain": [
       "LatentDirichletAllocation(random_state=42)"
      ]
     },
     "execution_count": 9,
     "metadata": {},
     "output_type": "execute_result"
    }
   ],
   "source": [
    "LDA.fit(dtm)"
   ]
  },
  {
   "cell_type": "code",
   "execution_count": 10,
   "id": "07afc4e1",
   "metadata": {},
   "outputs": [
    {
     "name": "stderr",
     "output_type": "stream",
     "text": [
      "D:\\anaconda\\envs\\dataenv\\lib\\site-packages\\sklearn\\utils\\deprecation.py:87: FutureWarning: Function get_feature_names is deprecated; get_feature_names is deprecated in 1.0 and will be removed in 1.2. Please use get_feature_names_out instead.\n",
      "  warnings.warn(msg, category=FutureWarning)\n"
     ]
    },
    {
     "data": {
      "text/plain": [
       "'alternator'"
      ]
     },
     "execution_count": 10,
     "metadata": {},
     "output_type": "execute_result"
    }
   ],
   "source": [
    "# Getting random feature names\n",
    "import random\n",
    "\n",
    "random_word = random.randint(0,5700)\n",
    "cv.get_feature_names()[random_word]"
   ]
  },
  {
   "cell_type": "code",
   "execution_count": 11,
   "id": "fc391348",
   "metadata": {},
   "outputs": [
    {
     "data": {
      "text/plain": [
       "10"
      ]
     },
     "execution_count": 11,
     "metadata": {},
     "output_type": "execute_result"
    }
   ],
   "source": [
    "# Grabing the topics\n",
    "len(LDA.components_)"
   ]
  },
  {
   "cell_type": "code",
   "execution_count": 12,
   "id": "5184545b",
   "metadata": {},
   "outputs": [
    {
     "name": "stdout",
     "output_type": "stream",
     "text": [
      "The top 20 topics from words are #0\n"
     ]
    },
    {
     "name": "stderr",
     "output_type": "stream",
     "text": [
      "D:\\anaconda\\envs\\dataenv\\lib\\site-packages\\sklearn\\utils\\deprecation.py:87: FutureWarning: Function get_feature_names is deprecated; get_feature_names is deprecated in 1.0 and will be removed in 1.2. Please use get_feature_names_out instead.\n",
      "  warnings.warn(msg, category=FutureWarning)\n"
     ]
    },
    {
     "name": "stdout",
     "output_type": "stream",
     "text": [
      "['windows', 'using', 'app', 'service', 'engineer', 'history', 'card', 'game', 'use', 'com', 'android', 'good', 'career', 'google', 'difference', 'software', 'engineering', 'examples', 'best', 'does']\n",
      "\n",
      "\n",
      "\n",
      "\n",
      "The top 20 topics from words are #1\n",
      "['economy', 'making', 'white', 'government', 'modi', 'favorite', 'rupee', 'interview', 'word', 'money', 'rs', 'india', 'think', 'english', 'black', 'stop', 'indian', '1000', 'notes', '500']\n",
      "\n",
      "\n",
      "\n",
      "\n",
      "The top 20 topics from words are #2\n",
      "['dark', 'really', 'battle', 'differ', 'hair', 'exist', 'real', 'india', 'purpose', 'cost', 'universe', 'compare', 'water', 'did', 'average', 'energy', 'good', 'time', 'does', 'life']\n",
      "\n",
      "\n",
      "\n",
      "\n",
      "The top 20 topics from words are #3\n",
      "['big', 'answers', 'year', 'make', 'mind', 'going', 'answer', 'thing', 'don', 'does', 'ask', 'day', 'question', 'movie', 'things', 'questions', 'know', 'new', 'people', 'quora']\n",
      "\n",
      "\n",
      "\n",
      "\n",
      "The top 20 topics from words are #4\n",
      "['usa', 'apply', 'degree', 'visa', 'canada', 'salary', 'state', 'mba', 'jobs', 'power', 'women', 'country', 'differences', 'rid', 'password', 'college', 'difference', 'car', 'india', 'job']\n",
      "\n",
      "\n",
      "\n",
      "\n",
      "The top 20 topics from words are #5\n",
      "['relationship', 'pakistan', 'china', 'really', 'love', 'people', 'think', 'math', 'girl', 'india', 'war', 'work', 'sex', 'long', 'did', 'feel', 'mean', 'world', 'like', 'does']\n",
      "\n",
      "\n",
      "\n",
      "\n",
      "The top 20 topics from words are #6\n",
      "['places', 'eat', 'university', 'food', 'visit', 'prepare', 'better', 'day', 'computer', 'exam', 'days', 'difference', 'school', 'science', 'study', 'live', 'good', 'lose', 'weight', 'best']\n",
      "\n",
      "\n",
      "\n",
      "\n",
      "The top 20 topics from words are #7\n",
      "['movies', 'ways', 'clinton', 'language', 'buy', 'president', 'good', 'programming', 'business', 'improve', 'donald', 'start', 'india', 'make', 'online', 'trump', 'money', 'learn', 'way', 'best']\n",
      "\n",
      "\n",
      "\n",
      "\n",
      "The top 20 topics from words are #8\n",
      "['app', 'video', 'youtube', 'effects', 'make', 'does', 'create', 'using', 'way', 'whatsapp', 'number', 'love', 'website', 'free', 'phone', 'data', 'instagram', 'facebook', 'use', 'account']\n",
      "\n",
      "\n",
      "\n",
      "\n",
      "The top 20 topics from words are #9\n",
      "['wrong', '10', 'die', 'height', 'person', 'parents', 'safe', 'hotel', 'prepare', 'travel', 'police', 'did', 'test', 'age', 'increase', 'possible', 'time', 'year', 'old', 'years']\n",
      "\n",
      "\n",
      "\n",
      "\n"
     ]
    }
   ],
   "source": [
    "# Highest Probability af words per topic\n",
    "\n",
    "for i,topic in enumerate(LDA.components_):\n",
    "    print(f\"The top 20 topics from words are #{i}\")\n",
    "    print([cv.get_feature_names()[index] for index in topic.argsort()[-20:]])\n",
    "    print('\\n')\n",
    "    print('\\n')"
   ]
  },
  {
   "cell_type": "code",
   "execution_count": 13,
   "id": "f1ac1b7a",
   "metadata": {},
   "outputs": [],
   "source": [
    "topic_results = LDA.transform(dtm)"
   ]
  },
  {
   "cell_type": "code",
   "execution_count": 14,
   "id": "65e98686",
   "metadata": {},
   "outputs": [],
   "source": [
    "df['Topic'] = topic_results.argmax(axis=1)"
   ]
  },
  {
   "cell_type": "code",
   "execution_count": 15,
   "id": "fc8fb4cf",
   "metadata": {},
   "outputs": [
    {
     "data": {
      "text/html": [
       "<div>\n",
       "<style scoped>\n",
       "    .dataframe tbody tr th:only-of-type {\n",
       "        vertical-align: middle;\n",
       "    }\n",
       "\n",
       "    .dataframe tbody tr th {\n",
       "        vertical-align: top;\n",
       "    }\n",
       "\n",
       "    .dataframe thead th {\n",
       "        text-align: right;\n",
       "    }\n",
       "</style>\n",
       "<table border=\"1\" class=\"dataframe\">\n",
       "  <thead>\n",
       "    <tr style=\"text-align: right;\">\n",
       "      <th></th>\n",
       "      <th>Question</th>\n",
       "      <th>Topic</th>\n",
       "    </tr>\n",
       "  </thead>\n",
       "  <tbody>\n",
       "    <tr>\n",
       "      <th>0</th>\n",
       "      <td>What is the step by step guide to invest in sh...</td>\n",
       "      <td>7</td>\n",
       "    </tr>\n",
       "    <tr>\n",
       "      <th>1</th>\n",
       "      <td>What is the story of Kohinoor (Koh-i-Noor) Dia...</td>\n",
       "      <td>4</td>\n",
       "    </tr>\n",
       "    <tr>\n",
       "      <th>2</th>\n",
       "      <td>How can I increase the speed of my internet co...</td>\n",
       "      <td>8</td>\n",
       "    </tr>\n",
       "    <tr>\n",
       "      <th>3</th>\n",
       "      <td>Why am I mentally very lonely? How can I solve...</td>\n",
       "      <td>5</td>\n",
       "    </tr>\n",
       "    <tr>\n",
       "      <th>4</th>\n",
       "      <td>Which one dissolve in water quikly sugar, salt...</td>\n",
       "      <td>2</td>\n",
       "    </tr>\n",
       "    <tr>\n",
       "      <th>5</th>\n",
       "      <td>Astrology: I am a Capricorn Sun Cap moon and c...</td>\n",
       "      <td>2</td>\n",
       "    </tr>\n",
       "    <tr>\n",
       "      <th>6</th>\n",
       "      <td>Should I buy tiago?</td>\n",
       "      <td>4</td>\n",
       "    </tr>\n",
       "    <tr>\n",
       "      <th>7</th>\n",
       "      <td>How can I be a good geologist?</td>\n",
       "      <td>2</td>\n",
       "    </tr>\n",
       "    <tr>\n",
       "      <th>8</th>\n",
       "      <td>When do you use シ instead of し?</td>\n",
       "      <td>8</td>\n",
       "    </tr>\n",
       "    <tr>\n",
       "      <th>9</th>\n",
       "      <td>Motorola (company): Can I hack my Charter Moto...</td>\n",
       "      <td>8</td>\n",
       "    </tr>\n",
       "    <tr>\n",
       "      <th>10</th>\n",
       "      <td>Method to find separation of slits using fresn...</td>\n",
       "      <td>4</td>\n",
       "    </tr>\n",
       "    <tr>\n",
       "      <th>11</th>\n",
       "      <td>How do I read and find my YouTube comments?</td>\n",
       "      <td>8</td>\n",
       "    </tr>\n",
       "    <tr>\n",
       "      <th>12</th>\n",
       "      <td>What can make Physics easy to learn?</td>\n",
       "      <td>7</td>\n",
       "    </tr>\n",
       "    <tr>\n",
       "      <th>13</th>\n",
       "      <td>What was your first sexual experience like?</td>\n",
       "      <td>5</td>\n",
       "    </tr>\n",
       "    <tr>\n",
       "      <th>14</th>\n",
       "      <td>What are the laws to change your status from a...</td>\n",
       "      <td>4</td>\n",
       "    </tr>\n",
       "    <tr>\n",
       "      <th>15</th>\n",
       "      <td>What would a Trump presidency mean for current...</td>\n",
       "      <td>4</td>\n",
       "    </tr>\n",
       "    <tr>\n",
       "      <th>16</th>\n",
       "      <td>What does manipulation mean?</td>\n",
       "      <td>5</td>\n",
       "    </tr>\n",
       "    <tr>\n",
       "      <th>17</th>\n",
       "      <td>Why do girls want to be friends with the guy t...</td>\n",
       "      <td>5</td>\n",
       "    </tr>\n",
       "    <tr>\n",
       "      <th>18</th>\n",
       "      <td>Why are so many Quora users posting questions ...</td>\n",
       "      <td>3</td>\n",
       "    </tr>\n",
       "    <tr>\n",
       "      <th>19</th>\n",
       "      <td>Which is the best digital marketing institutio...</td>\n",
       "      <td>7</td>\n",
       "    </tr>\n",
       "  </tbody>\n",
       "</table>\n",
       "</div>"
      ],
      "text/plain": [
       "                                             Question  Topic\n",
       "0   What is the step by step guide to invest in sh...      7\n",
       "1   What is the story of Kohinoor (Koh-i-Noor) Dia...      4\n",
       "2   How can I increase the speed of my internet co...      8\n",
       "3   Why am I mentally very lonely? How can I solve...      5\n",
       "4   Which one dissolve in water quikly sugar, salt...      2\n",
       "5   Astrology: I am a Capricorn Sun Cap moon and c...      2\n",
       "6                                 Should I buy tiago?      4\n",
       "7                      How can I be a good geologist?      2\n",
       "8                     When do you use シ instead of し?      8\n",
       "9   Motorola (company): Can I hack my Charter Moto...      8\n",
       "10  Method to find separation of slits using fresn...      4\n",
       "11        How do I read and find my YouTube comments?      8\n",
       "12               What can make Physics easy to learn?      7\n",
       "13        What was your first sexual experience like?      5\n",
       "14  What are the laws to change your status from a...      4\n",
       "15  What would a Trump presidency mean for current...      4\n",
       "16                       What does manipulation mean?      5\n",
       "17  Why do girls want to be friends with the guy t...      5\n",
       "18  Why are so many Quora users posting questions ...      3\n",
       "19  Which is the best digital marketing institutio...      7"
      ]
     },
     "execution_count": 15,
     "metadata": {},
     "output_type": "execute_result"
    }
   ],
   "source": [
    "df.head(20)"
   ]
  },
  {
   "cell_type": "code",
   "execution_count": null,
   "id": "cfc5f722",
   "metadata": {},
   "outputs": [],
   "source": []
  }
 ],
 "metadata": {
  "kernelspec": {
   "display_name": "Python 3 (ipykernel)",
   "language": "python",
   "name": "python3"
  },
  "language_info": {
   "codemirror_mode": {
    "name": "ipython",
    "version": 3
   },
   "file_extension": ".py",
   "mimetype": "text/x-python",
   "name": "python",
   "nbconvert_exporter": "python",
   "pygments_lexer": "ipython3",
   "version": "3.7.16"
  }
 },
 "nbformat": 4,
 "nbformat_minor": 5
}
