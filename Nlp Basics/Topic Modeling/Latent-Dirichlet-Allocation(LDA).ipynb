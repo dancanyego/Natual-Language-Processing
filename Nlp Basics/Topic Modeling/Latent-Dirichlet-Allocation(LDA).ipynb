{
 "cells": [
  {
   "cell_type": "markdown",
   "id": "71b4baef",
   "metadata": {},
   "source": [
    "# Data\n",
    "\n",
    "We will be using articles from NPR (National Public Radio), obtained from their website [www.npr.org](http://www.npr.org)"
   ]
  },
  {
   "cell_type": "code",
   "execution_count": 1,
   "id": "4fea4949",
   "metadata": {},
   "outputs": [],
   "source": [
    "import pandas as pd"
   ]
  },
  {
   "cell_type": "code",
   "execution_count": 2,
   "id": "9ff916c4",
   "metadata": {},
   "outputs": [],
   "source": [
    "npr = pd.read_csv('C:/Users/danca/Music/NLP/TextFiles/npr.csv')"
   ]
  },
  {
   "cell_type": "code",
   "execution_count": 3,
   "id": "c66d7f25",
   "metadata": {},
   "outputs": [
    {
     "data": {
      "text/html": [
       "<div>\n",
       "<style scoped>\n",
       "    .dataframe tbody tr th:only-of-type {\n",
       "        vertical-align: middle;\n",
       "    }\n",
       "\n",
       "    .dataframe tbody tr th {\n",
       "        vertical-align: top;\n",
       "    }\n",
       "\n",
       "    .dataframe thead th {\n",
       "        text-align: right;\n",
       "    }\n",
       "</style>\n",
       "<table border=\"1\" class=\"dataframe\">\n",
       "  <thead>\n",
       "    <tr style=\"text-align: right;\">\n",
       "      <th></th>\n",
       "      <th>Article</th>\n",
       "    </tr>\n",
       "  </thead>\n",
       "  <tbody>\n",
       "    <tr>\n",
       "      <th>0</th>\n",
       "      <td>In the Washington of 2016, even when the polic...</td>\n",
       "    </tr>\n",
       "    <tr>\n",
       "      <th>1</th>\n",
       "      <td>Donald Trump has used Twitter  —   his prefe...</td>\n",
       "    </tr>\n",
       "    <tr>\n",
       "      <th>2</th>\n",
       "      <td>Donald Trump is unabashedly praising Russian...</td>\n",
       "    </tr>\n",
       "    <tr>\n",
       "      <th>3</th>\n",
       "      <td>Updated at 2:50 p. m. ET, Russian President Vl...</td>\n",
       "    </tr>\n",
       "    <tr>\n",
       "      <th>4</th>\n",
       "      <td>From photography, illustration and video, to d...</td>\n",
       "    </tr>\n",
       "  </tbody>\n",
       "</table>\n",
       "</div>"
      ],
      "text/plain": [
       "                                             Article\n",
       "0  In the Washington of 2016, even when the polic...\n",
       "1    Donald Trump has used Twitter  —   his prefe...\n",
       "2    Donald Trump is unabashedly praising Russian...\n",
       "3  Updated at 2:50 p. m. ET, Russian President Vl...\n",
       "4  From photography, illustration and video, to d..."
      ]
     },
     "execution_count": 3,
     "metadata": {},
     "output_type": "execute_result"
    }
   ],
   "source": [
    "npr.head()"
   ]
  },
  {
   "cell_type": "code",
   "execution_count": 4,
   "id": "ddbb3ed9",
   "metadata": {},
   "outputs": [],
   "source": [
    "from sklearn.feature_extraction.text import CountVectorizer"
   ]
  },
  {
   "cell_type": "code",
   "execution_count": 5,
   "id": "adedb22c",
   "metadata": {},
   "outputs": [],
   "source": [
    "cv = CountVectorizer(max_df=0.9,min_df=2,stop_words='english')"
   ]
  },
  {
   "cell_type": "code",
   "execution_count": 6,
   "id": "4d21360c",
   "metadata": {},
   "outputs": [],
   "source": [
    "dtm = cv.fit_transform(npr['Article'])"
   ]
  },
  {
   "cell_type": "code",
   "execution_count": 7,
   "id": "6f9443a5",
   "metadata": {},
   "outputs": [],
   "source": [
    "# Performing LDA"
   ]
  },
  {
   "cell_type": "code",
   "execution_count": 8,
   "id": "36057ac4",
   "metadata": {},
   "outputs": [
    {
     "data": {
      "text/plain": [
       "<11992x54777 sparse matrix of type '<class 'numpy.int64'>'\n",
       "\twith 3033388 stored elements in Compressed Sparse Row format>"
      ]
     },
     "execution_count": 8,
     "metadata": {},
     "output_type": "execute_result"
    }
   ],
   "source": [
    "dtm"
   ]
  },
  {
   "cell_type": "code",
   "execution_count": 9,
   "id": "2fa19c6b",
   "metadata": {},
   "outputs": [],
   "source": [
    "from sklearn.decomposition import LatentDirichletAllocation"
   ]
  },
  {
   "cell_type": "code",
   "execution_count": 10,
   "id": "0f37189a",
   "metadata": {},
   "outputs": [],
   "source": [
    "LDA = LatentDirichletAllocation(n_components=10,random_state=42)"
   ]
  },
  {
   "cell_type": "code",
   "execution_count": 11,
   "id": "fa1df369",
   "metadata": {},
   "outputs": [
    {
     "data": {
      "text/plain": [
       "LatentDirichletAllocation(random_state=42)"
      ]
     },
     "execution_count": 11,
     "metadata": {},
     "output_type": "execute_result"
    }
   ],
   "source": [
    "LDA.fit(dtm)"
   ]
  },
  {
   "cell_type": "code",
   "execution_count": 22,
   "id": "df4ded42",
   "metadata": {},
   "outputs": [],
   "source": [
    "# Grab the vocabulary of words "
   ]
  },
  {
   "cell_type": "code",
   "execution_count": 16,
   "id": "8492d066",
   "metadata": {},
   "outputs": [
    {
     "data": {
      "text/plain": [
       "54777"
      ]
     },
     "execution_count": 16,
     "metadata": {},
     "output_type": "execute_result"
    }
   ],
   "source": [
    "len(cv.get_feature_names())"
   ]
  },
  {
   "cell_type": "code",
   "execution_count": 18,
   "id": "60ed649e",
   "metadata": {},
   "outputs": [
    {
     "data": {
      "text/plain": [
       "'benzodiazepines'"
      ]
     },
     "execution_count": 18,
     "metadata": {},
     "output_type": "execute_result"
    }
   ],
   "source": [
    "cv.get_feature_names()[5500]"
   ]
  },
  {
   "cell_type": "code",
   "execution_count": 21,
   "id": "1576105d",
   "metadata": {},
   "outputs": [
    {
     "data": {
      "text/plain": [
       "'nipples'"
      ]
     },
     "execution_count": 21,
     "metadata": {},
     "output_type": "execute_result"
    }
   ],
   "source": [
    "# getting random words \n",
    "import random\n",
    "\n",
    "random_word_id = random.randint(0,54000)\n",
    "\n",
    "cv.get_feature_names()[random_word_id]"
   ]
  },
  {
   "cell_type": "code",
   "execution_count": null,
   "id": "0c48eaf5",
   "metadata": {},
   "outputs": [],
   "source": []
  },
  {
   "cell_type": "code",
   "execution_count": 15,
   "id": "e86bc992",
   "metadata": {},
   "outputs": [],
   "source": [
    "# Grab the topic"
   ]
  },
  {
   "cell_type": "code",
   "execution_count": 25,
   "id": "a9a7827f",
   "metadata": {},
   "outputs": [
    {
     "data": {
      "text/plain": [
       "10"
      ]
     },
     "execution_count": 25,
     "metadata": {},
     "output_type": "execute_result"
    }
   ],
   "source": [
    "len(LDA.components_)"
   ]
  },
  {
   "cell_type": "code",
   "execution_count": 27,
   "id": "3dd45382",
   "metadata": {},
   "outputs": [
    {
     "data": {
      "text/plain": [
       "numpy.ndarray"
      ]
     },
     "execution_count": 27,
     "metadata": {},
     "output_type": "execute_result"
    }
   ],
   "source": [
    "type(LDA.components_)"
   ]
  },
  {
   "cell_type": "code",
   "execution_count": 28,
   "id": "0ee39bd2",
   "metadata": {},
   "outputs": [
    {
     "data": {
      "text/plain": [
       "(10, 54777)"
      ]
     },
     "execution_count": 28,
     "metadata": {},
     "output_type": "execute_result"
    }
   ],
   "source": [
    "LDA.components_.shape"
   ]
  },
  {
   "cell_type": "code",
   "execution_count": 29,
   "id": "a2874c9c",
   "metadata": {},
   "outputs": [],
   "source": [
    "single_topic = LDA.components_[0]"
   ]
  },
  {
   "cell_type": "code",
   "execution_count": 30,
   "id": "db0f9afc",
   "metadata": {},
   "outputs": [
    {
     "data": {
      "text/plain": [
       "array([18302,  2475, 44967, ..., 10425, 42561, 42993], dtype=int64)"
      ]
     },
     "execution_count": 30,
     "metadata": {},
     "output_type": "execute_result"
    }
   ],
   "source": [
    "# Returning the index position that will sort the array\n",
    "single_topic.argsort()"
   ]
  },
  {
   "cell_type": "code",
   "execution_count": 35,
   "id": "9d9c1be3",
   "metadata": {},
   "outputs": [],
   "source": [
    "## lets grab the top 10 Words for this topic \n",
    "top_twenty_words = single_topic.argsort()[-20:]"
   ]
  },
  {
   "cell_type": "code",
   "execution_count": 36,
   "id": "5c745773",
   "metadata": {},
   "outputs": [
    {
     "name": "stdout",
     "output_type": "stream",
     "text": [
      "industry\n",
      "tax\n",
      "business\n",
      "percent\n",
      "pay\n",
      "people\n",
      "care\n",
      "government\n",
      "year\n",
      "insurance\n",
      "000\n",
      "federal\n",
      "new\n",
      "money\n",
      "companies\n",
      "million\n",
      "health\n",
      "company\n",
      "said\n",
      "says\n"
     ]
    }
   ],
   "source": [
    "for i in top_twenty_words:\n",
    "    print(cv.get_feature_names()[i]) "
   ]
  },
  {
   "cell_type": "code",
   "execution_count": null,
   "id": "78685af5",
   "metadata": {},
   "outputs": [],
   "source": []
  },
  {
   "cell_type": "code",
   "execution_count": 37,
   "id": "85dd02c1",
   "metadata": {},
   "outputs": [],
   "source": [
    "# Grabing the highest probability words per topic"
   ]
  },
  {
   "cell_type": "code",
   "execution_count": 38,
   "id": "3aca1ae5",
   "metadata": {},
   "outputs": [
    {
     "name": "stdout",
     "output_type": "stream",
     "text": [
      "The Top 15 Words from topic #0\n"
     ]
    },
    {
     "name": "stderr",
     "output_type": "stream",
     "text": [
      "D:\\anaconda\\envs\\dataenv\\lib\\site-packages\\sklearn\\utils\\deprecation.py:87: FutureWarning: Function get_feature_names is deprecated; get_feature_names is deprecated in 1.0 and will be removed in 1.2. Please use get_feature_names_out instead.\n",
      "  warnings.warn(msg, category=FutureWarning)\n"
     ]
    },
    {
     "name": "stdout",
     "output_type": "stream",
     "text": [
      "['people', 'care', 'government', 'year', 'insurance', '000', 'federal', 'new', 'money', 'companies', 'million', 'health', 'company', 'said', 'says']\n",
      "\n",
      "\n",
      "\n",
      "\n",
      "The Top 15 Words from topic #1\n",
      "['npr', 'intelligence', 'security', 'new', 'told', 'russian', 'campaign', 'obama', 'news', 'white', 'russia', 'house', 'president', 'said', 'trump']\n",
      "\n",
      "\n",
      "\n",
      "\n",
      "The Top 15 Words from topic #2\n",
      "['know', 'little', 'home', 'make', 'way', 'day', 'water', 'time', 'years', 'people', 'food', 'new', 'just', 'like', 'says']\n",
      "\n",
      "\n",
      "\n",
      "\n",
      "The Top 15 Words from topic #3\n",
      "['don', 'food', 'work', 'day', 'life', 'time', 'family', 'children', 'years', 'just', 'women', 'world', 'like', 'people', 'says']\n",
      "\n",
      "\n",
      "\n",
      "\n",
      "The Top 15 Words from topic #4\n",
      "['supreme', 'order', 'city', 'states', 'federal', 'country', 'president', 'rights', 'government', 'people', 'law', 'state', 'said', 'court', 'says']\n",
      "\n",
      "\n",
      "\n",
      "\n",
      "The Top 15 Words from topic #5\n",
      "['going', 've', 'story', 'life', 'don', 'new', 'way', 'time', 'really', 'know', 'think', 'music', 'people', 'just', 'like']\n",
      "\n",
      "\n",
      "\n",
      "\n",
      "The Top 15 Words from topic #6\n",
      "['don', 'student', 'think', 'science', 'university', 'people', 'time', 'schools', 'education', 'just', 'new', 'like', 'students', 'school', 'says']\n",
      "\n",
      "\n",
      "\n",
      "\n",
      "The Top 15 Words from topic #7\n",
      "['north', 'npr', 'officers', 'china', 'city', 'attack', 'reported', 'killed', 'according', 'told', 'says', 'reports', 'people', 'police', 'said']\n",
      "\n",
      "\n",
      "\n",
      "\n",
      "The Top 15 Words from topic #8\n",
      "['like', 'election', 'vote', 'just', 'president', 'voters', 'party', 'state', 'percent', 'republican', 'campaign', 'people', 'said', 'clinton', 'trump']\n",
      "\n",
      "\n",
      "\n",
      "\n",
      "The Top 15 Words from topic #9\n",
      "['doctors', 'university', 'brain', 'like', 'research', 'percent', 'care', 'women', 'medical', 'disease', 'patients', 'study', 'people', 'health', 'says']\n",
      "\n",
      "\n",
      "\n",
      "\n"
     ]
    }
   ],
   "source": [
    "for i,topic in enumerate(LDA.components_):\n",
    "    print(f\"The Top 15 Words from topic #{i}\")\n",
    "    print([cv.get_feature_names()[index] for index in topic.argsort()[-15:]])\n",
    "    print('\\n')\n",
    "    print('\\n')"
   ]
  },
  {
   "cell_type": "code",
   "execution_count": null,
   "id": "ea089ce6",
   "metadata": {},
   "outputs": [],
   "source": []
  }
 ],
 "metadata": {
  "kernelspec": {
   "display_name": "Python 3 (ipykernel)",
   "language": "python",
   "name": "python3"
  },
  "language_info": {
   "codemirror_mode": {
    "name": "ipython",
    "version": 3
   },
   "file_extension": ".py",
   "mimetype": "text/x-python",
   "name": "python",
   "nbconvert_exporter": "python",
   "pygments_lexer": "ipython3",
   "version": "3.7.16"
  }
 },
 "nbformat": 4,
 "nbformat_minor": 5
}
