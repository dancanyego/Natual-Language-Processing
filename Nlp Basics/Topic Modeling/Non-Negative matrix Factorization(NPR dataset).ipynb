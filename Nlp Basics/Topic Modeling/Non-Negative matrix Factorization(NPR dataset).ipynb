{
 "cells": [
  {
   "cell_type": "code",
   "execution_count": 1,
   "id": "42dbc940",
   "metadata": {},
   "outputs": [],
   "source": [
    "import pandas as pd"
   ]
  },
  {
   "cell_type": "code",
   "execution_count": 2,
   "id": "648a05b1",
   "metadata": {},
   "outputs": [],
   "source": [
    "npr = pd.read_csv('C:/Users/danca/Music/NLP/TextFiles/npr.csv')"
   ]
  },
  {
   "cell_type": "code",
   "execution_count": 3,
   "id": "39c19d82",
   "metadata": {},
   "outputs": [
    {
     "data": {
      "text/html": [
       "<div>\n",
       "<style scoped>\n",
       "    .dataframe tbody tr th:only-of-type {\n",
       "        vertical-align: middle;\n",
       "    }\n",
       "\n",
       "    .dataframe tbody tr th {\n",
       "        vertical-align: top;\n",
       "    }\n",
       "\n",
       "    .dataframe thead th {\n",
       "        text-align: right;\n",
       "    }\n",
       "</style>\n",
       "<table border=\"1\" class=\"dataframe\">\n",
       "  <thead>\n",
       "    <tr style=\"text-align: right;\">\n",
       "      <th></th>\n",
       "      <th>Article</th>\n",
       "    </tr>\n",
       "  </thead>\n",
       "  <tbody>\n",
       "    <tr>\n",
       "      <th>0</th>\n",
       "      <td>In the Washington of 2016, even when the polic...</td>\n",
       "    </tr>\n",
       "    <tr>\n",
       "      <th>1</th>\n",
       "      <td>Donald Trump has used Twitter  —   his prefe...</td>\n",
       "    </tr>\n",
       "    <tr>\n",
       "      <th>2</th>\n",
       "      <td>Donald Trump is unabashedly praising Russian...</td>\n",
       "    </tr>\n",
       "    <tr>\n",
       "      <th>3</th>\n",
       "      <td>Updated at 2:50 p. m. ET, Russian President Vl...</td>\n",
       "    </tr>\n",
       "    <tr>\n",
       "      <th>4</th>\n",
       "      <td>From photography, illustration and video, to d...</td>\n",
       "    </tr>\n",
       "  </tbody>\n",
       "</table>\n",
       "</div>"
      ],
      "text/plain": [
       "                                             Article\n",
       "0  In the Washington of 2016, even when the polic...\n",
       "1    Donald Trump has used Twitter  —   his prefe...\n",
       "2    Donald Trump is unabashedly praising Russian...\n",
       "3  Updated at 2:50 p. m. ET, Russian President Vl...\n",
       "4  From photography, illustration and video, to d..."
      ]
     },
     "execution_count": 3,
     "metadata": {},
     "output_type": "execute_result"
    }
   ],
   "source": [
    "npr.head()"
   ]
  },
  {
   "cell_type": "markdown",
   "id": "c6ae7922",
   "metadata": {},
   "source": [
    "# Preprocessing"
   ]
  },
  {
   "cell_type": "code",
   "execution_count": 4,
   "id": "5354f357",
   "metadata": {},
   "outputs": [],
   "source": [
    "from sklearn.feature_extraction.text import TfidfVectorizer"
   ]
  },
  {
   "cell_type": "code",
   "execution_count": 5,
   "id": "8e97a196",
   "metadata": {},
   "outputs": [],
   "source": [
    "tfidf = TfidfVectorizer(max_df=0.95,min_df=2,stop_words='english')"
   ]
  },
  {
   "cell_type": "code",
   "execution_count": 6,
   "id": "7416f282",
   "metadata": {},
   "outputs": [],
   "source": [
    "dtm = tfidf.fit_transform(npr['Article'])"
   ]
  },
  {
   "cell_type": "code",
   "execution_count": 7,
   "id": "6c3c8e66",
   "metadata": {},
   "outputs": [
    {
     "data": {
      "text/plain": [
       "<11992x54777 sparse matrix of type '<class 'numpy.float64'>'\n",
       "\twith 3033388 stored elements in Compressed Sparse Row format>"
      ]
     },
     "execution_count": 7,
     "metadata": {},
     "output_type": "execute_result"
    }
   ],
   "source": [
    "dtm"
   ]
  },
  {
   "cell_type": "markdown",
   "id": "f3461802",
   "metadata": {},
   "source": [
    "# Performing NMF"
   ]
  },
  {
   "cell_type": "code",
   "execution_count": 9,
   "id": "4b522647",
   "metadata": {},
   "outputs": [],
   "source": [
    "from sklearn.decomposition import NMF"
   ]
  },
  {
   "cell_type": "code",
   "execution_count": 10,
   "id": "b5d87b09",
   "metadata": {},
   "outputs": [],
   "source": [
    "nmf_model = NMF(n_components=12,random_state=42)"
   ]
  },
  {
   "cell_type": "code",
   "execution_count": 11,
   "id": "1301b23f",
   "metadata": {},
   "outputs": [
    {
     "name": "stderr",
     "output_type": "stream",
     "text": [
      "D:\\anaconda\\envs\\dataenv\\lib\\site-packages\\sklearn\\decomposition\\_nmf.py:294: FutureWarning: The 'init' value, when 'init=None' and n_components is less than n_samples and n_features, will be changed from 'nndsvd' to 'nndsvda' in 1.1 (renaming of 0.26).\n",
      "  FutureWarning,\n"
     ]
    },
    {
     "data": {
      "text/plain": [
       "NMF(n_components=12, random_state=42)"
      ]
     },
     "execution_count": 11,
     "metadata": {},
     "output_type": "execute_result"
    }
   ],
   "source": [
    "nmf_model.fit(dtm)"
   ]
  },
  {
   "cell_type": "markdown",
   "id": "fe25a6a9",
   "metadata": {},
   "source": [
    "# Displaying Topics"
   ]
  },
  {
   "cell_type": "code",
   "execution_count": 15,
   "id": "14a6cb81",
   "metadata": {},
   "outputs": [
    {
     "data": {
      "text/plain": [
       "'installments'"
      ]
     },
     "execution_count": 15,
     "metadata": {},
     "output_type": "execute_result"
    }
   ],
   "source": [
    "tfidf.get_feature_names()[25333]"
   ]
  },
  {
   "cell_type": "raw",
   "id": "8cdaf33e",
   "metadata": {},
   "source": [
    "NMF is Dealing with words That has the highest coefficients values inside the matrix  unlike LDA that deals with words with the highest probability of belonging to a topic "
   ]
  },
  {
   "cell_type": "code",
   "execution_count": 16,
   "id": "30c4dc24",
   "metadata": {},
   "outputs": [
    {
     "name": "stdout",
     "output_type": "stream",
     "text": [
      "The Top 15 Words for Topic # 0\n"
     ]
    },
    {
     "name": "stderr",
     "output_type": "stream",
     "text": [
      "D:\\anaconda\\envs\\dataenv\\lib\\site-packages\\sklearn\\utils\\deprecation.py:87: FutureWarning: Function get_feature_names is deprecated; get_feature_names is deprecated in 1.0 and will be removed in 1.2. Please use get_feature_names_out instead.\n",
      "  warnings.warn(msg, category=FutureWarning)\n"
     ]
    },
    {
     "name": "stdout",
     "output_type": "stream",
     "text": [
      "['university', 'year', 'companies', 'workers', '000', 'years', 'like', 'study', 'company', 'new', 'percent', 'people', 'water', 'food', 'says']\n",
      "\n",
      "\n",
      "\n",
      "\n",
      "The Top 15 Words for Topic # 1\n",
      "['election', 'cruz', 'administration', 'pence', 'gop', 'presidential', 'obama', 'white', 'house', 'republican', 'campaign', 'donald', 'said', 'president', 'trump']\n",
      "\n",
      "\n",
      "\n",
      "\n",
      "The Top 15 Words for Topic # 2\n",
      "['repeal', 'patients', 'law', 'act', 'republicans', 'tax', 'plan', 'people', 'affordable', 'obamacare', 'coverage', 'medicaid', 'insurance', 'care', 'health']\n",
      "\n",
      "\n",
      "\n",
      "\n",
      "The Top 15 Words for Topic # 3\n",
      "['information', 'director', 'sessions', 'election', 'president', 'said', 'house', 'flynn', 'committee', 'investigation', 'russian', 'intelligence', 'russia', 'fbi', 'comey']\n",
      "\n",
      "\n",
      "\n",
      "\n",
      "The Top 15 Words for Topic # 4\n",
      "['candidates', 'democrats', 'cruz', 'primary', 'percent', 'party', 'vote', 'state', 'delegates', 'democratic', 'hillary', 'campaign', 'voters', 'sanders', 'clinton']\n",
      "\n",
      "\n",
      "\n",
      "\n",
      "The Top 15 Words for Topic # 5\n",
      "['ve', 'going', 'things', 'way', 'time', 'book', 'don', 'life', 'women', 'really', 'know', 'just', 'people', 'think', 'like']\n",
      "\n",
      "\n",
      "\n",
      "\n",
      "The Top 15 Words for Topic # 6\n",
      "['program', 'says', 'teacher', 'high', 'parents', 'devos', 'children', 'kids', 'college', 'teachers', 'student', 'education', 'schools', 'school', 'students']\n",
      "\n",
      "\n",
      "\n",
      "\n",
      "The Top 15 Words for Topic # 7\n",
      "['cdc', 'babies', 'infected', 'brazil', 'outbreak', 'pregnant', 'microcephaly', 'cases', 'health', 'disease', 'mosquitoes', 'mosquito', 'women', 'virus', 'zika']\n",
      "\n",
      "\n",
      "\n",
      "\n",
      "The Top 15 Words for Topic # 8\n",
      "['shot', 'enforcement', 'dallas', 'department', 'gun', 'killed', 'city', 'reports', 'shooting', 'attack', 'black', 'officer', 'said', 'officers', 'police']\n",
      "\n",
      "\n",
      "\n",
      "\n",
      "The Top 15 Words for Topic # 9\n",
      "['ban', 'obama', 'gorsuch', 'said', 'case', 'order', 'president', 'state', 'senate', 'federal', 'judge', 'justice', 'law', 'supreme', 'court']\n",
      "\n",
      "\n",
      "\n",
      "\n",
      "The Top 15 Words for Topic # 10\n",
      "['turkey', 'iran', 'china', 'north', 'iraq', 'aleppo', 'russia', 'said', 'war', 'korea', 'forces', 'military', 'syrian', 'syria', 'isis']\n",
      "\n",
      "\n",
      "\n",
      "\n",
      "The Top 15 Words for Topic # 11\n",
      "['musicians', 'walker', 'prince', 'jazz', 'sound', 'artists', 'new', 'guitar', 'audio', 'desk', 'band', 'songs', 'song', 'album', 'music']\n",
      "\n",
      "\n",
      "\n",
      "\n"
     ]
    }
   ],
   "source": [
    "# Grab the top if words per topic\n",
    "\n",
    "\n",
    "for i,topic in enumerate(nmf_model.components_):\n",
    "    print(f\"The Top 15 Words for Topic # {i}\")\n",
    "    print([tfidf.get_feature_names()[index] for index in topic.argsort()[-15:]])\n",
    "    print('\\n')\n",
    "    print('\\n')"
   ]
  },
  {
   "cell_type": "code",
   "execution_count": null,
   "id": "4be14839",
   "metadata": {},
   "outputs": [],
   "source": []
  }
 ],
 "metadata": {
  "kernelspec": {
   "display_name": "Python 3 (ipykernel)",
   "language": "python",
   "name": "python3"
  },
  "language_info": {
   "codemirror_mode": {
    "name": "ipython",
    "version": 3
   },
   "file_extension": ".py",
   "mimetype": "text/x-python",
   "name": "python",
   "nbconvert_exporter": "python",
   "pygments_lexer": "ipython3",
   "version": "3.7.16"
  }
 },
 "nbformat": 4,
 "nbformat_minor": 5
}
