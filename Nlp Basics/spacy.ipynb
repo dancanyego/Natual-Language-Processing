{
 "cells": [
  {
   "cell_type": "code",
   "execution_count": 1,
   "id": "4f4e5a6d",
   "metadata": {},
   "outputs": [],
   "source": [
    "import spacy"
   ]
  },
  {
   "cell_type": "code",
   "execution_count": 2,
   "id": "891e380e",
   "metadata": {},
   "outputs": [],
   "source": [
    "nlp = spacy.load('en_core_web_sm')"
   ]
  },
  {
   "cell_type": "code",
   "execution_count": 4,
   "id": "cc5b4dce",
   "metadata": {},
   "outputs": [],
   "source": [
    "# Creating a doc object with a unicode string"
   ]
  },
  {
   "cell_type": "code",
   "execution_count": 7,
   "id": "3219ee47",
   "metadata": {},
   "outputs": [],
   "source": [
    "doc = nlp(u\"I am hopping to get a job at a U.S. startup willing to pay $7 million\")"
   ]
  },
  {
   "cell_type": "code",
   "execution_count": 13,
   "id": "27bbf0e3",
   "metadata": {},
   "outputs": [
    {
     "name": "stdout",
     "output_type": "stream",
     "text": [
      "I PRON nsubj\n",
      "am AUX aux\n",
      "hopping VERB ROOT\n",
      "to PART aux\n",
      "get VERB xcomp\n",
      "a DET det\n",
      "job NOUN dobj\n",
      "at ADP prep\n",
      "a DET det\n",
      "U.S. PROPN compound\n",
      "startup NOUN pobj\n",
      "willing ADJ amod\n",
      "to PART aux\n",
      "pay VERB xcomp\n",
      "$ SYM quantmod\n",
      "7 NUM compound\n",
      "million NUM dobj\n"
     ]
    }
   ],
   "source": [
    "for token in doc:\n",
    "    print(token.text,token.pos_,token.dep_)  # Partof speech"
   ]
  },
  {
   "cell_type": "code",
   "execution_count": 15,
   "id": "866f1f48",
   "metadata": {},
   "outputs": [
    {
     "data": {
      "text/plain": [
       "[('tok2vec', <spacy.pipeline.tok2vec.Tok2Vec at 0x170073625e8>),\n",
       " ('tagger', <spacy.pipeline.tagger.Tagger at 0x170076e32e8>),\n",
       " ('parser', <spacy.pipeline.dep_parser.DependencyParser at 0x170074a16d8>),\n",
       " ('attribute_ruler',\n",
       "  <spacy.pipeline.attributeruler.AttributeRuler at 0x170070ce588>),\n",
       " ('lemmatizer', <spacy.lang.en.lemmatizer.EnglishLemmatizer at 0x170070cba48>),\n",
       " ('ner', <spacy.pipeline.ner.EntityRecognizer at 0x170074a1748>)]"
      ]
     },
     "execution_count": 15,
     "metadata": {},
     "output_type": "execute_result"
    }
   ],
   "source": [
    "## Pipeline object\n",
    "nlp.pipeline"
   ]
  },
  {
   "cell_type": "code",
   "execution_count": 16,
   "id": "39813b35",
   "metadata": {},
   "outputs": [
    {
     "data": {
      "text/plain": [
       "['tok2vec', 'tagger', 'parser', 'attribute_ruler', 'lemmatizer', 'ner']"
      ]
     },
     "execution_count": 16,
     "metadata": {},
     "output_type": "execute_result"
    }
   ],
   "source": [
    "nlp.pipe_names"
   ]
  },
  {
   "cell_type": "code",
   "execution_count": null,
   "id": "6250ceb8",
   "metadata": {},
   "outputs": [],
   "source": []
  }
 ],
 "metadata": {
  "kernelspec": {
   "display_name": "Python 3 (ipykernel)",
   "language": "python",
   "name": "python3"
  },
  "language_info": {
   "codemirror_mode": {
    "name": "ipython",
    "version": 3
   },
   "file_extension": ".py",
   "mimetype": "text/x-python",
   "name": "python",
   "nbconvert_exporter": "python",
   "pygments_lexer": "ipython3",
   "version": "3.7.16"
  }
 },
 "nbformat": 4,
 "nbformat_minor": 5
}
