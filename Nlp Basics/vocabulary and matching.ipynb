{
 "cells": [
  {
   "cell_type": "code",
   "execution_count": 1,
   "id": "db0bd96d",
   "metadata": {},
   "outputs": [],
   "source": [
    "import spacy\n",
    "nlp = spacy.load('en_core_web_sm')"
   ]
  },
  {
   "cell_type": "code",
   "execution_count": 2,
   "id": "855ecb98",
   "metadata": {},
   "outputs": [],
   "source": [
    "# Importing the matcher library\n",
    "from spacy.matcher import Matcher"
   ]
  },
  {
   "cell_type": "code",
   "execution_count": 3,
   "id": "ba1a073a",
   "metadata": {},
   "outputs": [],
   "source": [
    "matcher = Matcher(nlp.vocab)"
   ]
  },
  {
   "cell_type": "markdown",
   "id": "b3569238",
   "metadata": {},
   "source": [
    "# Creating Patterns"
   ]
  },
  {
   "cell_type": "code",
   "execution_count": 7,
   "id": "e68e2e8e",
   "metadata": {},
   "outputs": [],
   "source": [
    "# Checking if solarpower appears as :\n",
    "# one word solarpower\n",
    "# With a dash solar-power\n",
    "# appears as two words solar power\n",
    "pattern1 = [{'LOWER': 'solarpower'}]\n",
    "pattern2 = [{'LOWER': 'solar'}, {'LOWER': 'power'}]\n",
    "pattern3 = [{'LOWER': 'solar'}, {'IS_PUNCT': True}, {'LOWER': 'power'}]"
   ]
  },
  {
   "cell_type": "code",
   "execution_count": 11,
   "id": "23aa2158",
   "metadata": {},
   "outputs": [],
   "source": [
    "matcher.add('SolarPower',[ pattern1, pattern2, pattern3])"
   ]
  },
  {
   "cell_type": "markdown",
   "id": "76d202e9",
   "metadata": {},
   "source": [
    "# applying matcher to a doc object"
   ]
  },
  {
   "cell_type": "code",
   "execution_count": 12,
   "id": "8f0fbc4e",
   "metadata": {},
   "outputs": [],
   "source": [
    "doc4 = nlp(u\"The Solar Power Company continue to increase as demand for solar-power increases. The impact of solarpower is powerful\")"
   ]
  },
  {
   "cell_type": "code",
   "execution_count": 13,
   "id": "dc68b14b",
   "metadata": {},
   "outputs": [],
   "source": [
    "found_matches = matcher(doc4)"
   ]
  },
  {
   "cell_type": "code",
   "execution_count": 14,
   "id": "495557c5",
   "metadata": {},
   "outputs": [
    {
     "data": {
      "text/plain": [
       "[(8656102463236116519, 1, 3),\n",
       " (8656102463236116519, 10, 13),\n",
       " (8656102463236116519, 18, 19)]"
      ]
     },
     "execution_count": 14,
     "metadata": {},
     "output_type": "execute_result"
    }
   ],
   "source": [
    "found_matches"
   ]
  },
  {
   "cell_type": "code",
   "execution_count": 15,
   "id": "8962b133",
   "metadata": {},
   "outputs": [],
   "source": [
    " # Printing the string representation of the object"
   ]
  },
  {
   "cell_type": "code",
   "execution_count": 18,
   "id": "6905b804",
   "metadata": {},
   "outputs": [
    {
     "name": "stdout",
     "output_type": "stream",
     "text": [
      "8656102463236116519 SolarPower 1 3 Solar Power\n",
      "8656102463236116519 SolarPower 10 13 solar-power\n",
      "8656102463236116519 SolarPower 18 19 solarpower\n"
     ]
    }
   ],
   "source": [
    "for match_id, start, end in found_matches:\n",
    "    string_id = nlp.vocab.strings[match_id]  # get string representation\n",
    "    span = doc4[start:end]                    # get the matched span\n",
    "    print(match_id, string_id, start, end, span.text)"
   ]
  },
  {
   "cell_type": "code",
   "execution_count": 19,
   "id": "48d565a9",
   "metadata": {},
   "outputs": [],
   "source": [
    "# How to remove a pattern \n",
    "\n",
    "matcher.remove('SolarPower')"
   ]
  },
  {
   "cell_type": "code",
   "execution_count": 20,
   "id": "a6527c45",
   "metadata": {},
   "outputs": [],
   "source": [
    "pattern1 = [{'LOWER':'topmart'}]\n",
    "pattern2 = [{'LOWER':'top'},{'LOWER':'mart'}]\n",
    "pattern3 = [{'LOWER':'top'},{'IS_PUNCT':True,'OP':'*'},{'LOWER':'mart'}]"
   ]
  },
  {
   "cell_type": "code",
   "execution_count": 22,
   "id": "323e37df",
   "metadata": {},
   "outputs": [],
   "source": [
    "matcher.add('topmart',[pattern1,pattern2,pattern3])"
   ]
  },
  {
   "cell_type": "code",
   "execution_count": 24,
   "id": "46ed47b7",
   "metadata": {},
   "outputs": [],
   "source": [
    "text = nlp(u'The definition of a top--mart is tmart we give you great serivce from topmart and with top mart you will receive money back')"
   ]
  },
  {
   "cell_type": "code",
   "execution_count": 25,
   "id": "b776584a",
   "metadata": {},
   "outputs": [],
   "source": [
    "found_matches = matcher(text)"
   ]
  },
  {
   "cell_type": "code",
   "execution_count": 26,
   "id": "681d3af7",
   "metadata": {},
   "outputs": [
    {
     "name": "stdout",
     "output_type": "stream",
     "text": [
      "5898217336663587240 topmart 4 7 top--mart\n",
      "5898217336663587240 topmart 15 16 topmart\n",
      "5898217336663587240 topmart 18 20 top mart\n"
     ]
    }
   ],
   "source": [
    "for match_id,start,end in found_matches:\n",
    "    string_id = nlp.vocab.strings[match_id]\n",
    "    span = text[start:end]\n",
    "    print(match_id,string_id,start,end,span.text)"
   ]
  },
  {
   "cell_type": "code",
   "execution_count": 27,
   "id": "8e78484e",
   "metadata": {},
   "outputs": [],
   "source": [
    "# phrase matching "
   ]
  },
  {
   "cell_type": "code",
   "execution_count": 28,
   "id": "bd48b204",
   "metadata": {},
   "outputs": [],
   "source": [
    "# Setting patterns options and quantifiers"
   ]
  },
  {
   "cell_type": "code",
   "execution_count": 32,
   "id": "c2130cf4",
   "metadata": {},
   "outputs": [],
   "source": [
    "from spacy.matcher import PhraseMatcher\n",
    "nlp = spacy.load('en_core_web_sm')"
   ]
  },
  {
   "cell_type": "code",
   "execution_count": 33,
   "id": "d8d95478",
   "metadata": {},
   "outputs": [],
   "source": [
    "matcher = Matcher(nlp.vocab)"
   ]
  },
  {
   "cell_type": "code",
   "execution_count": 34,
   "id": "bd00cd76",
   "metadata": {},
   "outputs": [],
   "source": [
    "# Importing a wikipedia article "
   ]
  },
  {
   "cell_type": "code",
   "execution_count": 73,
   "id": "d30f406a",
   "metadata": {},
   "outputs": [],
   "source": [
    "with open('C:/Users/danca/Music/TextFiles/reaganomics.txt') as f:\n",
    "    doc3 = nlp(f.read())"
   ]
  },
  {
   "cell_type": "code",
   "execution_count": 70,
   "id": "983d87dd",
   "metadata": {},
   "outputs": [],
   "source": [
    "phrase_list = ['voodoo economics', 'supply-side economics', 'trickle-down economics', 'free-market economics']"
   ]
  },
  {
   "cell_type": "code",
   "execution_count": 61,
   "id": "39796aff",
   "metadata": {},
   "outputs": [],
   "source": [
    "# convert each phrase to a document object using list compressions\n",
    "phrase_pattern = [nlp(text) for text in phrase_list]"
   ]
  },
  {
   "cell_type": "code",
   "execution_count": null,
   "id": "1a3673d4",
   "metadata": {},
   "outputs": [],
   "source": []
  }
 ],
 "metadata": {
  "kernelspec": {
   "display_name": "Python 3 (ipykernel)",
   "language": "python",
   "name": "python3"
  },
  "language_info": {
   "codemirror_mode": {
    "name": "ipython",
    "version": 3
   },
   "file_extension": ".py",
   "mimetype": "text/x-python",
   "name": "python",
   "nbconvert_exporter": "python",
   "pygments_lexer": "ipython3",
   "version": "3.7.16"
  }
 },
 "nbformat": 4,
 "nbformat_minor": 5
}
